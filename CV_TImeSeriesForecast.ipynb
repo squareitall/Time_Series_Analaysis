{
  "nbformat": 4,
  "nbformat_minor": 0,
  "metadata": {
    "colab": {
      "name": "CV_TImeSeriesForecast.ipynb",
      "provenance": []
    },
    "kernelspec": {
      "name": "python3",
      "display_name": "Python 3"
    },
    "language_info": {
      "name": "python"
    }
  },
  "cells": [
    {
      "cell_type": "code",
      "execution_count": 1,
      "metadata": {
        "id": "UHUkehmkG7J8"
      },
      "outputs": [],
      "source": [
        "import numpy as np\n",
        "import pandas as pd\n",
        "import matplotlib.pyplot as plt\n",
        "\n",
        "\n",
        "from sklearn.base import BaseEstimator, TransformerMixin\n",
        "from sklearn.pipeline import Pipeline\n"
      ]
    },
    {
      "cell_type": "code",
      "source": [
        "add_noise=1\n",
        "np.random.seed(seed=5)\n",
        "x=np.sin(np.linspace(-2*3.14,3*3.14,500)) \n",
        "if add_noise:\n",
        "  x+=np.random.normal(0,0.2,500)\n",
        "plt.plot(x)"
      ],
      "metadata": {
        "colab": {
          "base_uri": "https://localhost:8080/",
          "height": 282
        },
        "id": "ptUWY6zoHUtf",
        "outputId": "084c1f72-28e8-4f5d-e521-ace29c3f3a82"
      },
      "execution_count": 2,
      "outputs": [
        {
          "output_type": "execute_result",
          "data": {
            "text/plain": [
              "[<matplotlib.lines.Line2D at 0x7f2429a5eb90>]"
            ]
          },
          "metadata": {},
          "execution_count": 2
        },
        {
          "output_type": "display_data",
          "data": {
            "image/png": "[encoded data removed]",
            "text/plain": [
              "<Figure size 432x288 with 1 Axes>"
            ]
          },
          "metadata": {
            "needs_background": "light"
          }
        }
      ]
    },
    {
      "cell_type": "markdown",
      "source": [
        "# We received our data and we were told to transform and train a model on it for predicting/forecasting 5 days ahead values\n",
        "\n",
        "#The baseline model we will be using is a simple Linear model using 10 previous values\n",
        "Hypothesis--> AR(10) association\n",
        "Transformation reuired-->\n",
        "  X--> To make prediction we need 10 previous values 9th plus the 0 to 8th \n",
        "  Y--> We will be predicting the t+1th value at t\n",
        "\n",
        "Our pipeline will be comprised of shift based transformers and model\n",
        "--> We can use np.roll for shifting but we will focus on using pandas.shift as it directly creates and fill nans generated using shift\n",
        "\n",
        "\n",
        "The structure flow is going to be straightforward\n",
        "-> STEP 1\n",
        "--> Encoding of shifts\n",
        "--> Concatenating transformer and model using pipeline\n",
        "\n",
        "\n",
        "--> Cross validating the models using forecast values"
      ],
      "metadata": {
        "id": "EXjjO2CrHoRF"
      }
    },
    {
      "cell_type": "code",
      "source": [
        "# Transformer for shifts\n",
        "\n",
        "\n",
        "class MLLinTransformer(BaseEstimator, TransformerMixin):\n",
        "    # def __init__(self):\n",
        "    #     pass\n",
        "    \n",
        "    def fit(self,X,y=None):\n",
        "        return self\n",
        "    \n",
        "    # def _check_feature_names(self):\n",
        "    #     if not hasattr(self, 'featureNames_'):\n",
        "    #         raise NotFittedError(\"FeatureNames not available yet\")\n",
        "\n",
        "    #     if len(self.featureNames_) == 0:\n",
        "    #         raise ValueError(\"FeatureNames are empty\")\n",
        "    \n",
        "    # def get_feature_names(self):\n",
        "    #     self._check_feature_names()\n",
        "    #     return self.featureNames_\n",
        "\n",
        "class shift_transformer(MLLinTransformer):\n",
        "  def __init__(self, shift,forward=False):\n",
        "    self.shift=shift\n",
        "    self.forward=forward\n",
        "  \n",
        "  # def fit(self,X,y=None):\n",
        "  #   return\n",
        "\n",
        "  def transform(self,X,y=None):\n",
        "    assert(len(X.shape)==1)\n",
        "    temp_x=X.copy()\n",
        "    if isinstance(X,type(np.array([1]))):\n",
        "      temp_x=pd.Series(X,name='dt')\n",
        "    \n",
        "    if self.forward:\n",
        "      df_x=pd.concat(\n",
        "          [temp_x.shift(-i) for i in range(1,self.shift+1)],axis=1\n",
        "      ) \n",
        "      df_x.columns=['dt_t_plus_'+str(i) for i in range(1,self.shift+1)]\n",
        "    else:     \n",
        "      df_x=pd.concat(\n",
        "          [temp_x.shift(i) for i in range(self.shift)],axis=1\n",
        "      )\n",
        "      df_x.columns=['dt_t_minus_'+str(i) for i in range(self.shift)]\n",
        "    df_x=df_x.fillna(0)\n",
        "    return df_x"
      ],
      "metadata": {
        "id": "sen8GVbqHYdP"
      },
      "execution_count": 3,
      "outputs": []
    },
    {
      "cell_type": "code",
      "source": [
        "AR=10\n",
        "Forward=1\n",
        "\n",
        "t=shift_transformer(shift=10)\n",
        "xx=t.transform(x)\n",
        "\n",
        "# t.fit(xx)\n",
        "t.fit(x)\n",
        "xx.head(5)\n"
      ],
      "metadata": {
        "colab": {
          "base_uri": "https://localhost:8080/",
          "height": 206
        },
        "id": "I2FGiNyhNPfR",
        "outputId": "acbf5bcc-f5d5-4b02-c666-c0da9ec80c9c"
      },
      "execution_count": 8,
      "outputs": [
        {
          "output_type": "execute_result",
          "data": {
            "text/html": [
              "\n",
              "  <div id=\"df-108886dc-3f40-4421-abdc-7bbe154ef4d6\">\n",
              "    <div class=\"colab-df-container\">\n",
              "      <div>\n",
              "<style scoped>\n",
              "    .dataframe tbody tr th:only-of-type {\n",
              "        vertical-align: middle;\n",
              "    }\n",
              "\n",
              "    .dataframe tbody tr th {\n",
              "        vertical-align: top;\n",
              "    }\n",
              "\n",
              "    .dataframe thead th {\n",
              "        text-align: right;\n",
              "    }\n",
              "</style>\n",
              "<table border=\"1\" class=\"dataframe\">\n",
              "  <thead>\n",
              "    <tr style=\"text-align: right;\">\n",
              "      <th></th>\n",
              "      <th>dt_t_minus_0</th>\n",
              "      <th>dt_t_minus_1</th>\n",
              "      <th>dt_t_minus_2</th>\n",
              "      <th>dt_t_minus_3</th>\n",
              "      <th>dt_t_minus_4</th>\n",
              "      <th>dt_t_minus_5</th>\n",
              "      <th>dt_t_minus_6</th>\n",
              "      <th>dt_t_minus_7</th>\n",
              "      <th>dt_t_minus_8</th>\n",
              "      <th>dt_t_minus_9</th>\n",
              "    </tr>\n",
              "  </thead>\n",
              "  <tbody>\n",
              "    <tr>\n",
              "      <th>0</th>\n",
              "      <td>0.091431</td>\n",
              "      <td>0.000000</td>\n",
              "      <td>0.000000</td>\n",
              "      <td>0.000000</td>\n",
              "      <td>0.000000</td>\n",
              "      <td>0.0</td>\n",
              "      <td>0.0</td>\n",
              "      <td>0.0</td>\n",
              "      <td>0.0</td>\n",
              "      <td>0.0</td>\n",
              "    </tr>\n",
              "    <tr>\n",
              "      <th>1</th>\n",
              "      <td>-0.031533</td>\n",
              "      <td>0.091431</td>\n",
              "      <td>0.000000</td>\n",
              "      <td>0.000000</td>\n",
              "      <td>0.000000</td>\n",
              "      <td>0.0</td>\n",
              "      <td>0.0</td>\n",
              "      <td>0.0</td>\n",
              "      <td>0.0</td>\n",
              "      <td>0.0</td>\n",
              "    </tr>\n",
              "    <tr>\n",
              "      <th>2</th>\n",
              "      <td>0.552217</td>\n",
              "      <td>-0.031533</td>\n",
              "      <td>0.091431</td>\n",
              "      <td>0.000000</td>\n",
              "      <td>0.000000</td>\n",
              "      <td>0.0</td>\n",
              "      <td>0.0</td>\n",
              "      <td>0.0</td>\n",
              "      <td>0.0</td>\n",
              "      <td>0.0</td>\n",
              "    </tr>\n",
              "    <tr>\n",
              "      <th>3</th>\n",
              "      <td>0.047001</td>\n",
              "      <td>0.552217</td>\n",
              "      <td>-0.031533</td>\n",
              "      <td>0.091431</td>\n",
              "      <td>0.000000</td>\n",
              "      <td>0.0</td>\n",
              "      <td>0.0</td>\n",
              "      <td>0.0</td>\n",
              "      <td>0.0</td>\n",
              "      <td>0.0</td>\n",
              "    </tr>\n",
              "    <tr>\n",
              "      <th>4</th>\n",
              "      <td>0.150601</td>\n",
              "      <td>0.047001</td>\n",
              "      <td>0.552217</td>\n",
              "      <td>-0.031533</td>\n",
              "      <td>0.091431</td>\n",
              "      <td>0.0</td>\n",
              "      <td>0.0</td>\n",
              "      <td>0.0</td>\n",
              "      <td>0.0</td>\n",
              "      <td>0.0</td>\n",
              "    </tr>\n",
              "  </tbody>\n",
              "</table>\n",
              "</div>\n",
              "      <button class=\"colab-df-convert\" onclick=\"convertToInteractive('df-108886dc-3f40-4421-abdc-7bbe154ef4d6')\"\n",
              "              title=\"Convert this dataframe to an interactive table.\"\n",
              "              style=\"display:none;\">\n",
              "        \n",
              "  <svg xmlns=\"http://www.w3.org/2000/svg\" height=\"24px\"viewBox=\"0 0 24 24\"\n",
              "       width=\"24px\">\n",
              "    <path d=\"M0 0h24v24H0V0z\" fill=\"none\"/>\n",
              "    <path d=\"M18.56 5.44l.94 2.06.94-2.06 2.06-.94-2.06-.94-.94-2.06-.94 2.06-2.06.94zm-11 1L8.5 8.5l.94-2.06 2.06-.94-2.06-.94L8.5 2.5l-.94 2.06-2.06.94zm10 10l.94 2.06.94-2.06 2.06-.94-2.06-.94-.94-2.06-.94 2.06-2.06.94z\"/><path d=\"M17.41 7.96l-1.37-1.37c-.4-.4-.92-.59-1.43-.59-.52 0-1.04.2-1.43.59L10.3 9.45l-7.72 7.72c-.78.78-.78 2.05 0 2.83L4 21.41c.39.39.9.59 1.41.59.51 0 1.02-.2 1.41-.59l7.78-7.78 2.81-2.81c.8-.78.8-2.07 0-2.86zM5.41 20L4 18.59l7.72-7.72 1.47 1.35L5.41 20z\"/>\n",
              "  </svg>\n",
              "      </button>\n",
              "      \n",
              "  <style>\n",
              "    .colab-df-container {\n",
              "      display:flex;\n",
              "      flex-wrap:wrap;\n",
              "      gap: 12px;\n",
              "    }\n",
              "\n",
              "    .colab-df-convert {\n",
              "      background-color: #E8F0FE;\n",
              "      border: none;\n",
              "      border-radius: 50%;\n",
              "      cursor: pointer;\n",
              "      display: none;\n",
              "      fill: #1967D2;\n",
              "      height: 32px;\n",
              "      padding: 0 0 0 0;\n",
              "      width: 32px;\n",
              "    }\n",
              "\n",
              "    .colab-df-convert:hover {\n",
              "      background-color: #E2EBFA;\n",
              "      box-shadow: 0px 1px 2px rgba(60, 64, 67, 0.3), 0px 1px 3px 1px rgba(60, 64, 67, 0.15);\n",
              "      fill: #174EA6;\n",
              "    }\n",
              "\n",
              "    [theme=dark] .colab-df-convert {\n",
              "      background-color: #3B4455;\n",
              "      fill: #D2E3FC;\n",
              "    }\n",
              "\n",
              "    [theme=dark] .colab-df-convert:hover {\n",
              "      background-color: #434B5C;\n",
              "      box-shadow: 0px 1px 3px 1px rgba(0, 0, 0, 0.15);\n",
              "      filter: drop-shadow(0px 1px 2px rgba(0, 0, 0, 0.3));\n",
              "      fill: #FFFFFF;\n",
              "    }\n",
              "  </style>\n",
              "\n",
              "      <script>\n",
              "        const buttonEl =\n",
              "          document.querySelector('#df-108886dc-3f40-4421-abdc-7bbe154ef4d6 button.colab-df-convert');\n",
              "        buttonEl.style.display =\n",
              "          google.colab.kernel.accessAllowed ? 'block' : 'none';\n",
              "\n",
              "        async function convertToInteractive(key) {\n",
              "          const element = document.querySelector('#df-108886dc-3f40-4421-abdc-7bbe154ef4d6');\n",
              "          const dataTable =\n",
              "            await google.colab.kernel.invokeFunction('convertToInteractive',\n",
              "                                                     [key], {});\n",
              "          if (!dataTable) return;\n",
              "\n",
              "          const docLinkHtml = 'Like what you see? Visit the ' +\n",
              "            '<a target=\"_blank\" href=https://colab.research.google.com/notebooks/data_table.ipynb>data table notebook</a>'\n",
              "            + ' to learn more about interactive tables.';\n",
              "          element.innerHTML = '';\n",
              "          dataTable['output_type'] = 'display_data';\n",
              "          await google.colab.output.renderOutput(dataTable, element);\n",
              "          const docLink = document.createElement('div');\n",
              "          docLink.innerHTML = docLinkHtml;\n",
              "          element.appendChild(docLink);\n",
              "        }\n",
              "      </script>\n",
              "    </div>\n",
              "  </div>\n",
              "  "
            ],
            "text/plain": [
              "   dt_t_minus_0  dt_t_minus_1  ...  dt_t_minus_8  dt_t_minus_9\n",
              "0      0.091431      0.000000  ...           0.0           0.0\n",
              "1     -0.031533      0.091431  ...           0.0           0.0\n",
              "2      0.552217     -0.031533  ...           0.0           0.0\n",
              "3      0.047001      0.552217  ...           0.0           0.0\n",
              "4      0.150601      0.047001  ...           0.0           0.0\n",
              "\n",
              "[5 rows x 10 columns]"
            ]
          },
          "metadata": {},
          "execution_count": 8
        }
      ]
    },
    {
      "cell_type": "code",
      "source": [
        "#Model\n",
        "\n",
        "from sklearn.linear_model import LinearRegression\n",
        "lr=LinearRegression()\n",
        "\n",
        "\n",
        "model_pip=Pipeline(\n",
        "    steps=[('pre_process',shift_transformer(shift=10)),\n",
        "           ('mod',LinearRegression())]\n",
        ")"
      ],
      "metadata": {
        "id": "0FFyp-6xNPX8"
      },
      "execution_count": 5,
      "outputs": []
    },
    {
      "cell_type": "code",
      "source": [
        "# Y_data\n",
        "sft_y=shift_transformer(shift=1,forward=True)\n",
        "yy=sft_y.transform(x)\n",
        "\n",
        "xx.merge(yy,left_index=True,right_index=True)\n",
        "#We can perform this merging inside one of the transformer or just drop the rows from head and tail for consistency\n",
        "#Else we can fill nan values as 0\n",
        "\n",
        "# yy=yy.iloc[AR-1:,:]\n",
        "\n",
        "\n",
        "model_pip.fit(x,yy)\n",
        "# lr.fit(xx,yy)\n"
      ],
      "metadata": {
        "colab": {
          "base_uri": "https://localhost:8080/"
        },
        "id": "qjOJoJO0NPRZ",
        "outputId": "c5099256-550f-437a-fcf9-aeb6f9907f77"
      },
      "execution_count": 6,
      "outputs": [
        {
          "output_type": "execute_result",
          "data": {
            "text/plain": [
              "Pipeline(steps=[('pre_process', shift_transformer(shift=10)),\n",
              "                ('mod', LinearRegression())])"
            ]
          },
          "metadata": {},
          "execution_count": 6
        }
      ]
    },
    {
      "cell_type": "code",
      "source": [
        "plt.plot(model_pip.predict(x),yy,'>')"
      ],
      "metadata": {
        "colab": {
          "base_uri": "https://localhost:8080/",
          "height": 282
        },
        "id": "Xyehi32kNPIi",
        "outputId": "0580d34c-807e-48b3-d924-5894e316f961"
      },
      "execution_count": 7,
      "outputs": [
        {
          "output_type": "execute_result",
          "data": {
            "text/plain": [
              "[<matplotlib.lines.Line2D at 0x7f2428ebf690>]"
            ]
          },
          "metadata": {},
          "execution_count": 7
        },
        {
          "output_type": "display_data",
          "data": {
            "image/png": "[encoded data removed]",
            "text/plain": [
              "<Figure size 432x288 with 1 Axes>"
            ]
          },
          "metadata": {
            "needs_background": "light"
          }
        }
      ]
    },
    {
      "cell_type": "markdown",
      "source": [
        "We intend to build a forecast based function that helps to predict values that is till 5 days ahead from now\n",
        "The we will have to predict the initial required data and append it to the series of X data\n",
        "\n",
        "\n",
        "Structure\n",
        "--> Forecast function that takes inside a model and predict the values for the coming five days\n",
        "--> We will have to remove the last data from the set and append the previously predicted data inside the list\n",
        "\n",
        "\n",
        "\n"
      ],
      "metadata": {
        "id": "4M3E1lJd2GNP"
      }
    },
    {
      "cell_type": "code",
      "source": [
        "\n"
      ],
      "metadata": {
        "colab": {
          "base_uri": "https://localhost:8080/"
        },
        "id": "ATz9wfoo6hQ2",
        "outputId": "e16d8ded-a91e-4176-f672-41c03cf249f3"
      },
      "execution_count": 22,
      "outputs": [
        {
          "output_type": "execute_result",
          "data": {
            "text/plain": [
              "(500, 10)"
            ]
          },
          "metadata": {},
          "execution_count": 22
        }
      ]
    },
    {
      "cell_type": "code",
      "source": [
        "# CV for the X data \n",
        "\n",
        "# Head start  has to be equal to AR that we have predicted that is 10 \n",
        "# We will forecast the coming five values and compare it with the forward five values \n",
        "\n",
        "#Our metric of comparision will be MAE\n",
        "\n",
        "\n",
        "## Defining a forecatse function \n",
        "## We can get to know about the number of initial predictors using model_coefficients values \n",
        "## But for now we will hard_code it as 10\n",
        "\n",
        "##Structure of x is [x0,x1------x9]\n",
        "##So we will have to append the new predicted values at the begining and remove the last column\n",
        "def forecast(model,x,n_days=5):\n",
        "  '''\n",
        "  This model wil be applied on the 2-D numpy array and \n",
        "  will provide the user with five forecasted values\n",
        "  '''\n",
        "  #having n instances of \n",
        "  for i in range(n_days):\n",
        "    pred_vals=model.predict(x)\n",
        "    temp_x=x.values if not isinstance(x,type(np.array([]))) else x\n",
        "    \n",
        "    temp_x=np.concatenate([pred_vals.reshape(-1,1),\n",
        "                           temp_x[:,1:]],axis=1                          \n",
        "                          )\n",
        "    x=pd.DataFrame(temp_x,columns=x.columns)\n",
        "    if i==0:\n",
        "      forcecast_vals=pred_vals.reshape(-1,1)\n",
        "    else:\n",
        "      forcecast_vals=np.concatenate([forcecast_vals,pred_vals.reshape(-1,1)],axis=1)\n",
        "\n",
        "  return forcecast_vals\n",
        "\n",
        "  \n",
        "\n",
        "\n",
        "forecast_vals_5=forecast(model_pip.named_steps['mod'],xx,5)\n",
        "\n",
        "forecast_vals_5.shape"
      ],
      "metadata": {
        "id": "y_ibZm9wNPCB",
        "colab": {
          "base_uri": "https://localhost:8080/"
        },
        "outputId": "d8dd3f87-9c16-43c2-a82a-2c8a7c9c24fe"
      },
      "execution_count": 47,
      "outputs": [
        {
          "output_type": "execute_result",
          "data": {
            "text/plain": [
              "(500, 5)"
            ]
          },
          "metadata": {},
          "execution_count": 47
        }
      ]
    },
    {
      "cell_type": "code",
      "source": [
        "y=pd.concat([yy.shift(-i) for i in range(5)],axis=1).ffill().values\n",
        "y.shape\n",
        "\n",
        "#Lets compute a weighted mean error of forecast values wt_err= [10,7,5,3,1]\n",
        "wt_err= np.array([10,7,5,3,1])\n",
        "wt_err=wt_err/np.sum(wt_err)\n",
        "\n",
        "def wt_mse(forecast_vals_5,y,wts=[]):\n",
        "  err=forecast_vals_5-y#Error across 5 dimensions\n",
        "  sq_err=np.power(err,2)\n",
        "  mse_err=np.sum(sq_err,axis=0)\n",
        "  if len(wts)>0:\n",
        "    wt_mse_err=np.sum(wts*mse_err)\n",
        "    return wt_mse_err\n",
        "  return np.mean(mse_err)\n",
        "wt_mse(forecast_vals_5,y,wt_err)"
      ],
      "metadata": {
        "colab": {
          "base_uri": "https://localhost:8080/"
        },
        "id": "yQAwxJ-QAAYi",
        "outputId": "c3042c3e-d20f-4f95-8fc8-e499df4613bf"
      },
      "execution_count": 90,
      "outputs": [
        {
          "output_type": "execute_result",
          "data": {
            "text/plain": [
              "27.1859471038428"
            ]
          },
          "metadata": {},
          "execution_count": 90
        }
      ]
    },
    {
      "cell_type": "code",
      "source": [
        "#Final Cross validation Function\n",
        "\n",
        "# We will use a model train it on the current time fold and predict it on future values\n",
        "#Head_start of 400 and predict and evaluate on 1 future value \n",
        "\n",
        "#Lets compare AR 2 with AR 10\n",
        "\n",
        "# from collection import deafultdict\n",
        "\n",
        "pd.concat([xx,yy],axis=1)\n",
        "\n",
        "head_start=100\n",
        "\n",
        "dict_models={'AR_10':model_pip,\n",
        "             'AR_5': Pipeline(\n",
        "    steps=[('pre_process',shift_transformer(shift=5)),\n",
        "           ('mod',LinearRegression())]\n",
        "                            ),\n",
        "             'AR_2': Pipeline(\n",
        "    steps=[('pre_process',shift_transformer(shift=2)),\n",
        "           ('mod',LinearRegression())]\n",
        "                            ),\n",
        "             }\n",
        "df_err=pd.DataFrame()\n",
        "for nm,model in dict_models.items():\n",
        "  val_err=[]\n",
        "  for tt in range(head_start,yy.shape[0]-1):\n",
        "    model.fit(x[:tt],yy[:tt])#train till this tt\n",
        "    y_pred=model.predict(x[tt:])#predict on tt furthers\n",
        "\n",
        "    err=wt_mse(y_pred,yy[tt:])#Compare on mse metric\n",
        "    val_err.append(err)#Cache the result\n",
        "  df_err[nm]=val_err\n",
        "  \n",
        "\n"
      ],
      "metadata": {
        "id": "Bld6-4gnLNyp"
      },
      "execution_count": 95,
      "outputs": []
    },
    {
      "cell_type": "code",
      "source": [
        "df_err.loc['stat',:]=df_err.mean().values\n",
        "df_err"
      ],
      "metadata": {
        "colab": {
          "base_uri": "https://localhost:8080/",
          "height": 423
        },
        "id": "znQHNB8jTTAd",
        "outputId": "452eb56d-35bd-47d1-a7c9-41744ebd584b"
      },
      "execution_count": 99,
      "outputs": [
        {
          "output_type": "execute_result",
          "data": {
            "text/html": [
              "\n",
              "  <div id=\"df-4ac01ee3-7620-4db6-9736-b99888e1da2a\">\n",
              "    <div class=\"colab-df-container\">\n",
              "      <div>\n",
              "<style scoped>\n",
              "    .dataframe tbody tr th:only-of-type {\n",
              "        vertical-align: middle;\n",
              "    }\n",
              "\n",
              "    .dataframe tbody tr th {\n",
              "        vertical-align: top;\n",
              "    }\n",
              "\n",
              "    .dataframe thead th {\n",
              "        text-align: right;\n",
              "    }\n",
              "</style>\n",
              "<table border=\"1\" class=\"dataframe\">\n",
              "  <thead>\n",
              "    <tr style=\"text-align: right;\">\n",
              "      <th></th>\n",
              "      <th>AR_10</th>\n",
              "      <th>AR_5</th>\n",
              "      <th>AR_2</th>\n",
              "    </tr>\n",
              "  </thead>\n",
              "  <tbody>\n",
              "    <tr>\n",
              "      <th>0</th>\n",
              "      <td>22.949069</td>\n",
              "      <td>22.608537</td>\n",
              "      <td>31.238979</td>\n",
              "    </tr>\n",
              "    <tr>\n",
              "      <th>1</th>\n",
              "      <td>22.544867</td>\n",
              "      <td>22.076535</td>\n",
              "      <td>30.003996</td>\n",
              "    </tr>\n",
              "    <tr>\n",
              "      <th>2</th>\n",
              "      <td>21.145638</td>\n",
              "      <td>20.782014</td>\n",
              "      <td>27.205030</td>\n",
              "    </tr>\n",
              "    <tr>\n",
              "      <th>3</th>\n",
              "      <td>21.106021</td>\n",
              "      <td>20.789662</td>\n",
              "      <td>27.937648</td>\n",
              "    </tr>\n",
              "    <tr>\n",
              "      <th>4</th>\n",
              "      <td>21.081526</td>\n",
              "      <td>20.713743</td>\n",
              "      <td>28.201941</td>\n",
              "    </tr>\n",
              "    <tr>\n",
              "      <th>...</th>\n",
              "      <td>...</td>\n",
              "      <td>...</td>\n",
              "      <td>...</td>\n",
              "    </tr>\n",
              "    <tr>\n",
              "      <th>395</th>\n",
              "      <td>0.122480</td>\n",
              "      <td>0.123051</td>\n",
              "      <td>0.144537</td>\n",
              "    </tr>\n",
              "    <tr>\n",
              "      <th>396</th>\n",
              "      <td>0.072517</td>\n",
              "      <td>0.072078</td>\n",
              "      <td>0.061295</td>\n",
              "    </tr>\n",
              "    <tr>\n",
              "      <th>397</th>\n",
              "      <td>0.033683</td>\n",
              "      <td>0.033367</td>\n",
              "      <td>0.029156</td>\n",
              "    </tr>\n",
              "    <tr>\n",
              "      <th>398</th>\n",
              "      <td>0.021801</td>\n",
              "      <td>0.021933</td>\n",
              "      <td>0.032139</td>\n",
              "    </tr>\n",
              "    <tr>\n",
              "      <th>stat</th>\n",
              "      <td>10.783751</td>\n",
              "      <td>10.705227</td>\n",
              "      <td>12.071546</td>\n",
              "    </tr>\n",
              "  </tbody>\n",
              "</table>\n",
              "<p>400 rows × 3 columns</p>\n",
              "</div>\n",
              "      <button class=\"colab-df-convert\" onclick=\"convertToInteractive('df-4ac01ee3-7620-4db6-9736-b99888e1da2a')\"\n",
              "              title=\"Convert this dataframe to an interactive table.\"\n",
              "              style=\"display:none;\">\n",
              "        \n",
              "  <svg xmlns=\"http://www.w3.org/2000/svg\" height=\"24px\"viewBox=\"0 0 24 24\"\n",
              "       width=\"24px\">\n",
              "    <path d=\"M0 0h24v24H0V0z\" fill=\"none\"/>\n",
              "    <path d=\"M18.56 5.44l.94 2.06.94-2.06 2.06-.94-2.06-.94-.94-2.06-.94 2.06-2.06.94zm-11 1L8.5 8.5l.94-2.06 2.06-.94-2.06-.94L8.5 2.5l-.94 2.06-2.06.94zm10 10l.94 2.06.94-2.06 2.06-.94-2.06-.94-.94-2.06-.94 2.06-2.06.94z\"/><path d=\"M17.41 7.96l-1.37-1.37c-.4-.4-.92-.59-1.43-.59-.52 0-1.04.2-1.43.59L10.3 9.45l-7.72 7.72c-.78.78-.78 2.05 0 2.83L4 21.41c.39.39.9.59 1.41.59.51 0 1.02-.2 1.41-.59l7.78-7.78 2.81-2.81c.8-.78.8-2.07 0-2.86zM5.41 20L4 18.59l7.72-7.72 1.47 1.35L5.41 20z\"/>\n",
              "  </svg>\n",
              "      </button>\n",
              "      \n",
              "  <style>\n",
              "    .colab-df-container {\n",
              "      display:flex;\n",
              "      flex-wrap:wrap;\n",
              "      gap: 12px;\n",
              "    }\n",
              "\n",
              "    .colab-df-convert {\n",
              "      background-color: #E8F0FE;\n",
              "      border: none;\n",
              "      border-radius: 50%;\n",
              "      cursor: pointer;\n",
              "      display: none;\n",
              "      fill: #1967D2;\n",
              "      height: 32px;\n",
              "      padding: 0 0 0 0;\n",
              "      width: 32px;\n",
              "    }\n",
              "\n",
              "    .colab-df-convert:hover {\n",
              "      background-color: #E2EBFA;\n",
              "      box-shadow: 0px 1px 2px rgba(60, 64, 67, 0.3), 0px 1px 3px 1px rgba(60, 64, 67, 0.15);\n",
              "      fill: #174EA6;\n",
              "    }\n",
              "\n",
              "    [theme=dark] .colab-df-convert {\n",
              "      background-color: #3B4455;\n",
              "      fill: #D2E3FC;\n",
              "    }\n",
              "\n",
              "    [theme=dark] .colab-df-convert:hover {\n",
              "      background-color: #434B5C;\n",
              "      box-shadow: 0px 1px 3px 1px rgba(0, 0, 0, 0.15);\n",
              "      filter: drop-shadow(0px 1px 2px rgba(0, 0, 0, 0.3));\n",
              "      fill: #FFFFFF;\n",
              "    }\n",
              "  </style>\n",
              "\n",
              "      <script>\n",
              "        const buttonEl =\n",
              "          document.querySelector('#df-4ac01ee3-7620-4db6-9736-b99888e1da2a button.colab-df-convert');\n",
              "        buttonEl.style.display =\n",
              "          google.colab.kernel.accessAllowed ? 'block' : 'none';\n",
              "\n",
              "        async function convertToInteractive(key) {\n",
              "          const element = document.querySelector('#df-4ac01ee3-7620-4db6-9736-b99888e1da2a');\n",
              "          const dataTable =\n",
              "            await google.colab.kernel.invokeFunction('convertToInteractive',\n",
              "                                                     [key], {});\n",
              "          if (!dataTable) return;\n",
              "\n",
              "          const docLinkHtml = 'Like what you see? Visit the ' +\n",
              "            '<a target=\"_blank\" href=https://colab.research.google.com/notebooks/data_table.ipynb>data table notebook</a>'\n",
              "            + ' to learn more about interactive tables.';\n",
              "          element.innerHTML = '';\n",
              "          dataTable['output_type'] = 'display_data';\n",
              "          await google.colab.output.renderOutput(dataTable, element);\n",
              "          const docLink = document.createElement('div');\n",
              "          docLink.innerHTML = docLinkHtml;\n",
              "          element.appendChild(docLink);\n",
              "        }\n",
              "      </script>\n",
              "    </div>\n",
              "  </div>\n",
              "  "
            ],
            "text/plain": [
              "          AR_10       AR_5       AR_2\n",
              "0     22.949069  22.608537  31.238979\n",
              "1     22.544867  22.076535  30.003996\n",
              "2     21.145638  20.782014  27.205030\n",
              "3     21.106021  20.789662  27.937648\n",
              "4     21.081526  20.713743  28.201941\n",
              "...         ...        ...        ...\n",
              "395    0.122480   0.123051   0.144537\n",
              "396    0.072517   0.072078   0.061295\n",
              "397    0.033683   0.033367   0.029156\n",
              "398    0.021801   0.021933   0.032139\n",
              "stat  10.783751  10.705227  12.071546\n",
              "\n",
              "[400 rows x 3 columns]"
            ]
          },
          "metadata": {},
          "execution_count": 99
        }
      ]
    },
    {
      "cell_type": "code",
      "source": [
        "#For forecating we will indivineed to work on the transformed data"
      ],
      "metadata": {
        "id": "JdaSXaIqLNMK"
      },
      "execution_count": 78,
      "outputs": []
    },
    {
      "cell_type": "markdown",
      "source": [
        "# Rough Work"
      ],
      "metadata": {
        "id": "I1jmn9taLOvV"
      }
    },
    {
      "cell_type": "code",
      "source": [
        "len(pd.Series(np.arange(3)).shape)\n",
        "np.array([]).copy()\n",
        "\n",
        "np.concatenate([model_pip.predict(x).reshape(x.shape[0],1)\n",
        "                 ,xx.values[:,1:]],axis=1).shape"
      ],
      "metadata": {
        "colab": {
          "base_uri": "https://localhost:8080/"
        },
        "id": "8b9K2LdtHd03",
        "outputId": "a0b2544a-d90d-4a42-c11e-68a9d11bd366"
      },
      "execution_count": null,
      "outputs": [
        {
          "output_type": "execute_result",
          "data": {
            "text/plain": [
              "array([], dtype=float64)"
            ]
          },
          "metadata": {},
          "execution_count": 16
        }
      ]
    },
    {
      "cell_type": "code",
      "source": [
        "isinstance(np.arange(3),type(np.array([1])))\n"
      ],
      "metadata": {
        "colab": {
          "base_uri": "https://localhost:8080/"
        },
        "id": "s00zjonNLOLG",
        "outputId": "d909386d-cca9-470c-e8d4-d8e9ba282f4f"
      },
      "execution_count": null,
      "outputs": [
        {
          "output_type": "execute_result",
          "data": {
            "text/plain": [
              "True"
            ]
          },
          "metadata": {},
          "execution_count": 10
        }
      ]
    },
    {
      "cell_type": "code",
      "source": [
        ""
      ],
      "metadata": {
        "id": "MRa46B-fLmIf"
      },
      "execution_count": null,
      "outputs": []
    }
  ]
}