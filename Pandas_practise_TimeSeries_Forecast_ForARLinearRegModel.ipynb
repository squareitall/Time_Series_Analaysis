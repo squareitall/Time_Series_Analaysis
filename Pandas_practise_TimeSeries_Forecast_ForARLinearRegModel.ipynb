{
  "nbformat": 4,
  "nbformat_minor": 0,
  "metadata": {
    "colab": {
      "name": "Pandas_practise_TimeSeries_Forecast_ForARLinearRegModel.ipynb",
      "provenance": []
    },
    "kernelspec": {
      "name": "python3",
      "display_name": "Python 3"
    },
    "language_info": {
      "name": "python"
    }
  },
  "cells": [
    {
      "cell_type": "code",
      "execution_count": 1,
      "metadata": {
        "id": "IM4ue1mGdWFF",
        "outputId": "9094b540-50e6-481a-93e2-7281d41b9d5d",
        "colab": {
          "base_uri": "https://localhost:8080/"
        }
      },
      "outputs": [
        {
          "output_type": "execute_result",
          "data": {
            "text/plain": [
              "0    0 10\n",
              "1    1 11\n",
              "2    2 12\n",
              "3    3 13\n",
              "4    4 14\n",
              "dtype: object"
            ]
          },
          "metadata": {},
          "execution_count": 1
        }
      ],
      "source": [
        "import numpy as np\n",
        "import pandas as pd\n",
        "\n",
        "df=pd.DataFrame({'A':np.arange(5),\n",
        "                 'B':np.arange(10,15)})\n",
        "\n",
        "\n",
        "list(set([tuple(i) for i in pd.concat([df,df]).values]))\n",
        "np.unique(pd.concat([df,df]).values,axis=0)\n",
        "# df.T.to_json(),df.T.to_dict()\n",
        "\n",
        "\n",
        "temp=df.values\n",
        "# temp[[0,1,3],[0,1]]\n",
        "temp[[0,3],[0,1]]#Simple indexin g works on the principle of broadcasting \n",
        "# For multiplication use ix_\n",
        "temp[np.ix_([0,1,3],[0,1])]\n",
        "\n",
        "\n",
        "' '.join(df['A'].astype(str))\n",
        "df.apply(lambda s: ' '.join(map(str,s)),axis=1)\n",
        "\n",
        "# list(map(str,df['A']))\n",
        "\n"
      ]
    },
    {
      "cell_type": "code",
      "source": [
        "np.arange(6).reshape(2,1,3)"
      ],
      "metadata": {
        "id": "4P9Rjbq7daqz",
        "colab": {
          "base_uri": "https://localhost:8080/"
        },
        "outputId": "1c94605d-3295-419a-f800-3af6d166eeb6"
      },
      "execution_count": 3,
      "outputs": [
        {
          "output_type": "execute_result",
          "data": {
            "text/plain": [
              "array([[[0, 1, 2]],\n",
              "\n",
              "       [[3, 4, 5]]])"
            ]
          },
          "metadata": {},
          "execution_count": 3
        }
      ]
    },
    {
      "cell_type": "code",
      "source": [
        "np.arange(6).reshape(-1,),np.arange(6).reshape(-1,1)"
      ],
      "metadata": {
        "colab": {
          "base_uri": "https://localhost:8080/"
        },
        "id": "NRHn4pjhsrcc",
        "outputId": "f8136b41-d2b4-4721-c1b0-8b07b75b8942"
      },
      "execution_count": 5,
      "outputs": [
        {
          "output_type": "execute_result",
          "data": {
            "text/plain": [
              "(array([0, 1, 2, 3, 4, 5]), array([[0],\n",
              "        [1],\n",
              "        [2],\n",
              "        [3],\n",
              "        [4],\n",
              "        [5]]))"
            ]
          },
          "metadata": {},
          "execution_count": 5
        }
      ]
    },
    {
      "cell_type": "code",
      "source": [
        "import datetime\n",
        "t=pd.DataFrame({'A':np.arange(20),'B':np.arange(100,120)},index=pd.date_range(start=datetime.datetime.now()\n",
        "                                              ,periods=20,freq='1s'))\n",
        "t#Two stock prices N=20, D=2 and we hypothesise that AR(3) or MA(3) association is present\n",
        "\n",
        "\n",
        "#So we will have to construct an array of shape N*D*T that will be 20*2*3\n",
        "#As we can access individual feature as a column, we can engineer ~20*3 maps for each feature an then concatenate them about the feature axis\n",
        "\n",
        "def create_shifts(s,sfts=3):\n",
        "  s=s.ffill()#To avoid time leakage cannot look into the future\n",
        "  l=s.shape[0]\n",
        "\n",
        "  df_sfts=pd.concat(\n",
        "      [s.shift(i).to_frame(s.name+'_'+str(i)) for i in range(sfts)],axis=1\n",
        "  )\n",
        "  df_sfts=df_sfts.iloc[sfts-1:]\n",
        "  return df_sfts\n",
        "\n",
        "def transform(s,sfts=5):\n",
        "  for e,col in enumerate(s.columns):\n",
        "    temp_col=create_shifts(s[col],sfts=sfts)\n",
        "    n,t=temp_col.shape\n",
        "\n",
        "    if e==0:\n",
        "      final_array=temp_col.values.reshape(n,1,t)\n",
        "    else:\n",
        "      temp_col=temp_col.values.reshape(n,1,t)\n",
        "      final_array=np.concatenate([final_array,\n",
        "                                  temp_col],axis=1)#0--N,1-->d,2-->t\n",
        "  return final_array\n",
        "\n",
        "\n",
        "\n",
        "\n"
      ],
      "metadata": {
        "id": "YR9rJBUKs4MC"
      },
      "execution_count": 55,
      "outputs": []
    },
    {
      "cell_type": "code",
      "source": [
        "transform(t)#.shape"
      ],
      "metadata": {
        "colab": {
          "base_uri": "https://localhost:8080/"
        },
        "id": "4Kojz7iguHqL",
        "outputId": "78a15088-9e6a-4a71-be3b-e9ce0749851d"
      },
      "execution_count": 56,
      "outputs": [
        {
          "output_type": "execute_result",
          "data": {
            "text/plain": [
              "array([[[  4.,   3.,   2.,   1.,   0.],\n",
              "        [104., 103., 102., 101., 100.]],\n",
              "\n",
              "       [[  5.,   4.,   3.,   2.,   1.],\n",
              "        [105., 104., 103., 102., 101.]],\n",
              "\n",
              "       [[  6.,   5.,   4.,   3.,   2.],\n",
              "        [106., 105., 104., 103., 102.]],\n",
              "\n",
              "       [[  7.,   6.,   5.,   4.,   3.],\n",
              "        [107., 106., 105., 104., 103.]],\n",
              "\n",
              "       [[  8.,   7.,   6.,   5.,   4.],\n",
              "        [108., 107., 106., 105., 104.]],\n",
              "\n",
              "       [[  9.,   8.,   7.,   6.,   5.],\n",
              "        [109., 108., 107., 106., 105.]],\n",
              "\n",
              "       [[ 10.,   9.,   8.,   7.,   6.],\n",
              "        [110., 109., 108., 107., 106.]],\n",
              "\n",
              "       [[ 11.,  10.,   9.,   8.,   7.],\n",
              "        [111., 110., 109., 108., 107.]],\n",
              "\n",
              "       [[ 12.,  11.,  10.,   9.,   8.],\n",
              "        [112., 111., 110., 109., 108.]],\n",
              "\n",
              "       [[ 13.,  12.,  11.,  10.,   9.],\n",
              "        [113., 112., 111., 110., 109.]],\n",
              "\n",
              "       [[ 14.,  13.,  12.,  11.,  10.],\n",
              "        [114., 113., 112., 111., 110.]],\n",
              "\n",
              "       [[ 15.,  14.,  13.,  12.,  11.],\n",
              "        [115., 114., 113., 112., 111.]],\n",
              "\n",
              "       [[ 16.,  15.,  14.,  13.,  12.],\n",
              "        [116., 115., 114., 113., 112.]],\n",
              "\n",
              "       [[ 17.,  16.,  15.,  14.,  13.],\n",
              "        [117., 116., 115., 114., 113.]],\n",
              "\n",
              "       [[ 18.,  17.,  16.,  15.,  14.],\n",
              "        [118., 117., 116., 115., 114.]],\n",
              "\n",
              "       [[ 19.,  18.,  17.,  16.,  15.],\n",
              "        [119., 118., 117., 116., 115.]]])"
            ]
          },
          "metadata": {},
          "execution_count": 56
        }
      ]
    },
    {
      "cell_type": "markdown",
      "source": [
        "# Perform Forecasting and simple prediction using AR model thar is linear Regression computed on previous lags of X values\n",
        "\n"
      ],
      "metadata": {
        "id": "R1Movz9VHVgN"
      }
    },
    {
      "cell_type": "code",
      "source": [
        "add_noise=True"
      ],
      "metadata": {
        "id": "viiq_4oMjx3Q"
      },
      "execution_count": 144,
      "outputs": []
    },
    {
      "cell_type": "code",
      "source": [
        "np.random.seed(seed=5)\n",
        "x=np.sin(np.linspace(-2*3.14,3*3.14,500)) \n",
        "if add_noise:\n",
        "  x+=np.random.normal(0,0.2,500)\n"
      ],
      "metadata": {
        "id": "eS6EfE1IuRPK"
      },
      "execution_count": 145,
      "outputs": []
    },
    {
      "cell_type": "code",
      "source": [
        "import matplotlib.pyplot as plt\n",
        "plt.plot(x)"
      ],
      "metadata": {
        "colab": {
          "base_uri": "https://localhost:8080/",
          "height": 282
        },
        "id": "IoBxzQpAH-EB",
        "outputId": "11684470-d577-4ffa-8505-1e30e0294623"
      },
      "execution_count": 146,
      "outputs": [
        {
          "output_type": "execute_result",
          "data": {
            "text/plain": [
              "[<matplotlib.lines.Line2D at 0x7f5c3aec0850>]"
            ]
          },
          "metadata": {},
          "execution_count": 146
        },
        {
          "output_type": "display_data",
          "data": {
            "image/png": "[encoded data removed]",
            "text/plain": [
              "<Figure size 432x288 with 1 Axes>"
            ]
          },
          "metadata": {
            "needs_background": "light"
          }
        }
      ]
    },
    {
      "cell_type": "code",
      "source": [
        "t=pd.DataFrame(x,index=pd.date_range(datetime.datetime.now().date(),periods=x.shape[0],freq='1d')\n",
        "               ,columns=['V'])\n",
        "ar=5\n",
        "xx=transform(t,sfts=ar).reshape(-1,ar)\n",
        "\n",
        "y=t.shift(-1).values[ar-1:].reshape(-1,)\n",
        "\n",
        "y[-2:]\n",
        "\n",
        "xx=xx[:-1]\n",
        "y=y[:-1]\n",
        "\n",
        "xx[-5:],y[-5:]\n",
        "plt.figure(figsize=(20,8))\n",
        "plt.plot(xx[:10,[0]].reshape(-1,1),'*')\n",
        "plt.plot(y[:10],'.')#If you will observe last value of x lags y"
      ],
      "metadata": {
        "colab": {
          "base_uri": "https://localhost:8080/",
          "height": 500
        },
        "id": "_cPfGXGhIC1t",
        "outputId": "66059815-a2cb-44a8-9874-d83a8c16bad4"
      },
      "execution_count": 147,
      "outputs": [
        {
          "output_type": "execute_result",
          "data": {
            "text/plain": [
              "[<matplotlib.lines.Line2D at 0x7f5c393d44d0>]"
            ]
          },
          "metadata": {},
          "execution_count": 147
        },
        {
          "output_type": "display_data",
          "data": {
            "image/png": "[encoded data removed]",
            "text/plain": [
              "<Figure size 1440x576 with 1 Axes>"
            ]
          },
          "metadata": {
            "needs_background": "light"
          }
        }
      ]
    },
    {
      "cell_type": "code",
      "source": [
        "from keras.layers import Dense,Input\n",
        "from tensorflow.keras.models import Model\n",
        "from tensorflow.keras.optimizers import SGD, Adam\n"
      ],
      "metadata": {
        "id": "ayNaWUQoI-rW"
      },
      "execution_count": 148,
      "outputs": []
    },
    {
      "cell_type": "code",
      "source": [
        "n_instances=t.shape[0]"
      ],
      "metadata": {
        "id": "TYtS8LGLMxIm"
      },
      "execution_count": 149,
      "outputs": []
    },
    {
      "cell_type": "code",
      "source": [
        "i=Input(shape=(ar,))\n",
        "x=Dense(units=1)(i)#Calling a caller of the obect of Dense unit 1 class\n",
        "\n",
        "#This is formulation of Simple Linear Regression using dense layer with only one unit that linear combines all the features\n",
        "\n",
        "\n",
        "model=Model(i,x)\n",
        "\n",
        "model.compile(optimizer=Adam(lr=0.1),loss='mse')\n",
        "\n",
        "splitter=int(n_instances//1.5)\n",
        "model.fit(\n",
        "    x=xx[:splitter],y=y[:splitter],\n",
        "    epochs=30,\n",
        "    validation_data=(xx[splitter:],y[splitter:])\n",
        "\n",
        ")"
      ],
      "metadata": {
        "colab": {
          "base_uri": "https://localhost:8080/"
        },
        "id": "wEZbUwsSLRio",
        "outputId": "58631ccb-b790-4477-bf49-d5160c0d494a"
      },
      "execution_count": 150,
      "outputs": [
        {
          "output_type": "stream",
          "name": "stderr",
          "text": [
            "/usr/local/lib/python3.7/dist-packages/keras/optimizer_v2/adam.py:105: UserWarning: The `lr` argument is deprecated, use `learning_rate` instead.\n",
            "  super(Adam, self).__init__(name, **kwargs)\n"
          ]
        },
        {
          "output_type": "stream",
          "name": "stdout",
          "text": [
            "Epoch 1/30\n",
            "11/11 [==============================] - 0s 14ms/step - loss: 0.7871 - val_loss: 0.4902\n",
            "Epoch 2/30\n",
            "11/11 [==============================] - 0s 5ms/step - loss: 0.2104 - val_loss: 0.1676\n",
            "Epoch 3/30\n",
            "11/11 [==============================] - 0s 5ms/step - loss: 0.1020 - val_loss: 0.0986\n",
            "Epoch 4/30\n",
            "11/11 [==============================] - 0s 5ms/step - loss: 0.0735 - val_loss: 0.0831\n",
            "Epoch 5/30\n",
            "11/11 [==============================] - 0s 5ms/step - loss: 0.0641 - val_loss: 0.0670\n",
            "Epoch 6/30\n",
            "11/11 [==============================] - 0s 4ms/step - loss: 0.0573 - val_loss: 0.0619\n",
            "Epoch 7/30\n",
            "11/11 [==============================] - 0s 5ms/step - loss: 0.0550 - val_loss: 0.0609\n",
            "Epoch 8/30\n",
            "11/11 [==============================] - 0s 5ms/step - loss: 0.0517 - val_loss: 0.0557\n",
            "Epoch 9/30\n",
            "11/11 [==============================] - 0s 4ms/step - loss: 0.0506 - val_loss: 0.0566\n",
            "Epoch 10/30\n",
            "11/11 [==============================] - 0s 4ms/step - loss: 0.0498 - val_loss: 0.0545\n",
            "Epoch 11/30\n",
            "11/11 [==============================] - 0s 5ms/step - loss: 0.0496 - val_loss: 0.0547\n",
            "Epoch 12/30\n",
            "11/11 [==============================] - 0s 4ms/step - loss: 0.0504 - val_loss: 0.0540\n",
            "Epoch 13/30\n",
            "11/11 [==============================] - 0s 4ms/step - loss: 0.0526 - val_loss: 0.0555\n",
            "Epoch 14/30\n",
            "11/11 [==============================] - 0s 4ms/step - loss: 0.0501 - val_loss: 0.0548\n",
            "Epoch 15/30\n",
            "11/11 [==============================] - 0s 5ms/step - loss: 0.0498 - val_loss: 0.0536\n",
            "Epoch 16/30\n",
            "11/11 [==============================] - 0s 5ms/step - loss: 0.0496 - val_loss: 0.0521\n",
            "Epoch 17/30\n",
            "11/11 [==============================] - 0s 5ms/step - loss: 0.0513 - val_loss: 0.0570\n",
            "Epoch 18/30\n",
            "11/11 [==============================] - 0s 5ms/step - loss: 0.0511 - val_loss: 0.0535\n",
            "Epoch 19/30\n",
            "11/11 [==============================] - 0s 4ms/step - loss: 0.0505 - val_loss: 0.0537\n",
            "Epoch 20/30\n",
            "11/11 [==============================] - 0s 4ms/step - loss: 0.0504 - val_loss: 0.0515\n",
            "Epoch 21/30\n",
            "11/11 [==============================] - 0s 3ms/step - loss: 0.0494 - val_loss: 0.0527\n",
            "Epoch 22/30\n",
            "11/11 [==============================] - 0s 4ms/step - loss: 0.0504 - val_loss: 0.0518\n",
            "Epoch 23/30\n",
            "11/11 [==============================] - 0s 4ms/step - loss: 0.0509 - val_loss: 0.0511\n",
            "Epoch 24/30\n",
            "11/11 [==============================] - 0s 4ms/step - loss: 0.0505 - val_loss: 0.0582\n",
            "Epoch 25/30\n",
            "11/11 [==============================] - 0s 5ms/step - loss: 0.0504 - val_loss: 0.0512\n",
            "Epoch 26/30\n",
            "11/11 [==============================] - 0s 5ms/step - loss: 0.0503 - val_loss: 0.0561\n",
            "Epoch 27/30\n",
            "11/11 [==============================] - 0s 6ms/step - loss: 0.0524 - val_loss: 0.0505\n",
            "Epoch 28/30\n",
            "11/11 [==============================] - 0s 4ms/step - loss: 0.0513 - val_loss: 0.0524\n",
            "Epoch 29/30\n",
            "11/11 [==============================] - 0s 6ms/step - loss: 0.0492 - val_loss: 0.0528\n",
            "Epoch 30/30\n",
            "11/11 [==============================] - 0s 5ms/step - loss: 0.0507 - val_loss: 0.0507\n"
          ]
        },
        {
          "output_type": "execute_result",
          "data": {
            "text/plain": [
              "<keras.callbacks.History at 0x7f5c3ac8c090>"
            ]
          },
          "metadata": {},
          "execution_count": 150
        }
      ]
    },
    {
      "cell_type": "markdown",
      "source": [
        "# Forecast using AR model\n",
        "\n",
        "The first code block tries to perform simple prediction where we directly use to predict the values using the all the observed value savailaible \n",
        "\n",
        "like yT+5|T+4 and not YT+5|T\n",
        "\n"
      ],
      "metadata": {
        "id": "ETUDJwOocR3l"
      }
    },
    {
      "cell_type": "code",
      "source": [
        "#It is a AR 5 model so will need last five values from the training set to predict the first test value\n",
        "\n",
        "\n",
        "test_set=t[splitter-ar:]\n",
        "x_test=transform(test_set,sfts=ar).reshape(-1,5)#.shape#Last set of predictors cannot be validated as we dont have the T+1 data\n",
        "x_test=x_test[:-1,:]\n",
        "# x_test.shape\n",
        "\n",
        "y_test=t[splitter:].values#.shape #(t,t-1,t-2,t-3,t-4 for predicting t+1)"
      ],
      "metadata": {
        "id": "-mYFXUo_NkG3"
      },
      "execution_count": 151,
      "outputs": []
    },
    {
      "cell_type": "code",
      "source": [
        "y_pred_t_1_t=model.predict(x_test)\n",
        "\n",
        "from sklearn.metrics import mean_squared_error as mse\n",
        "\n",
        "plt.plot(y_test)\n",
        "plt.plot(y_pred_t_1_t)\n",
        "mse(y_test,y_pred_t_1_t)"
      ],
      "metadata": {
        "colab": {
          "base_uri": "https://localhost:8080/",
          "height": 282
        },
        "id": "V9Vf60G0dM1z",
        "outputId": "a10cbc39-8c8c-4c44-c3bc-bc5506663bbb"
      },
      "execution_count": 152,
      "outputs": [
        {
          "output_type": "execute_result",
          "data": {
            "text/plain": [
              "0.05049004091067508"
            ]
          },
          "metadata": {},
          "execution_count": 152
        },
        {
          "output_type": "display_data",
          "data": {
            "image/png": "[encoded data removed]",
            "text/plain": [
              "<Figure size 432x288 with 1 Axes>"
            ]
          },
          "metadata": {
            "needs_background": "light"
          }
        }
      ]
    },
    {
      "cell_type": "code",
      "source": [
        "#Lets forecast 50 points from given instance\n",
        "# Ytill T+50|T\n",
        "\n",
        "\n",
        "# We have a AR 5 model so as usual we will require 5 history points to predict the upcoming point\n",
        "# x_test[0] will serve as our starting set of redictors\n",
        "# Gradually we will need to make use of our estimate for calculating the next prediction so we will use a first in first out approach for this or que\n",
        "\n",
        "# or we can just append and remove from different ends of the list to create a FIFO\n",
        "\n",
        "num_of_forecasts=50\n",
        "y_pred_t_50_t=[]\n",
        "\n",
        "for i in range(num_of_forecasts):\n",
        "  if i==0:\n",
        "    temp_x=x_test[0:1,:]\n",
        "    \n",
        "  y_pred=model.predict(temp_x)\n",
        "  y_pred_t_50_t.append(y_pred[0])\n",
        "\n",
        "  #Perform LIFO on x\n",
        "  temp_x=np.concatenate([temp_x[:,1:],y_pred],axis=1)\n",
        "\n",
        "\n",
        "\n",
        "\n"
      ],
      "metadata": {
        "id": "PJY7iXhxkC0J"
      },
      "execution_count": 153,
      "outputs": []
    },
    {
      "cell_type": "code",
      "source": [
        "plt.plot(y_test[:num_of_forecasts])\n",
        "plt.plot(y_pred_t_50_t)\n",
        "mse(y_test[:num_of_forecasts],y_pred_t_50_t)"
      ],
      "metadata": {
        "colab": {
          "base_uri": "https://localhost:8080/",
          "height": 286
        },
        "id": "xIBjYAMQplpN",
        "outputId": "740ed4e1-3948-4117-c3c3-7974e0bf66bb"
      },
      "execution_count": 154,
      "outputs": [
        {
          "output_type": "execute_result",
          "data": {
            "text/plain": [
              "0.17686663840415837"
            ]
          },
          "metadata": {},
          "execution_count": 154
        },
        {
          "output_type": "display_data",
          "data": {
            "image/png": "[encoded data removed]",
            "text/plain": [
              "<Figure size 432x288 with 1 Axes>"
            ]
          },
          "metadata": {
            "needs_background": "light"
          }
        }
      ]
    },
    {
      "cell_type": "code",
      "source": [
        "# If we add further noise to the data The AR model fails to capture unrealizable error part and the forecast values deviate more\n",
        "# Therefore we will have to devise methods statistical models that are able to forecast till high order of time values\n",
        "\n",
        "# ARIMA is one of the Statistical model that incorporates both correlation of values at lag and error values of the historical data\n",
        "# Thus a difference based ARIMA model with stationry primary variable can be employed for forecating as we will have more confience on the beta estimate coefficients\n",
        "\n",
        "\n"
      ],
      "metadata": {
        "id": "psQGsERPq8Ds"
      },
      "execution_count": 158,
      "outputs": []
    },
    {
      "cell_type": "markdown",
      "source": [
        "# Rough Work"
      ],
      "metadata": {
        "id": "P3DlFnOli8yP"
      }
    },
    {
      "cell_type": "code",
      "source": [
        "test_set[:6],transform(test_set,sfts=ar)[:2,...]"
      ],
      "metadata": {
        "colab": {
          "base_uri": "https://localhost:8080/"
        },
        "id": "Hd1NOY7cdkxv",
        "outputId": "33f1aed1-9f59-45b2-a8b2-6bfcd0bf46c3"
      },
      "execution_count": 156,
      "outputs": [
        {
          "output_type": "execute_result",
          "data": {
            "text/plain": [
              "(                   V\n",
              " 2022-11-25 -0.918367\n",
              " 2022-11-26 -0.926347\n",
              " 2022-11-27 -0.591764\n",
              " 2022-11-28 -0.887015\n",
              " 2022-11-29 -0.960287\n",
              " 2022-11-30 -0.499034,\n",
              " array([[[-0.96028705, -0.8870151 , -0.59176449, -0.92634718,\n",
              "          -0.91836685]],\n",
              " \n",
              "        [[-0.49903423, -0.96028705, -0.8870151 , -0.59176449,\n",
              "          -0.92634718]]]))"
            ]
          },
          "metadata": {},
          "execution_count": 156
        }
      ]
    },
    {
      "cell_type": "code",
      "source": [
        "test_set[-6:],transform(test_set,sfts=ar)[-2:,...]"
      ],
      "metadata": {
        "colab": {
          "base_uri": "https://localhost:8080/"
        },
        "id": "omjEaczQdme_",
        "outputId": "60dd3c7c-3db0-49d8-9419-a04cfae4ee0f"
      },
      "execution_count": 157,
      "outputs": [
        {
          "output_type": "execute_result",
          "data": {
            "text/plain": [
              "(                   V\n",
              " 2023-05-10  0.410292\n",
              " 2023-05-11 -0.234291\n",
              " 2023-05-12  0.051083\n",
              " 2023-05-13  0.213341\n",
              " 2023-05-14  0.158010\n",
              " 2023-05-15  0.159415,\n",
              " array([[[ 0.15800981,  0.21334071,  0.051083  , -0.23429137,\n",
              "           0.41029187]],\n",
              " \n",
              "        [[ 0.15941488,  0.15800981,  0.21334071,  0.051083  ,\n",
              "          -0.23429137]]]))"
            ]
          },
          "metadata": {},
          "execution_count": 157
        }
      ]
    },
    {
      "cell_type": "code",
      "source": [
        ""
      ],
      "metadata": {
        "id": "Fz7nYwSue7CL"
      },
      "execution_count": 157,
      "outputs": []
    }
  ]
}